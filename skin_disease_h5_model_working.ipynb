{
  "nbformat": 4,
  "nbformat_minor": 0,
  "metadata": {
    "colab": {
      "provenance": []
    },
    "kernelspec": {
      "name": "python3",
      "display_name": "Python 3"
    },
    "language_info": {
      "name": "python"
    }
  },
  "cells": [
    {
      "cell_type": "code",
      "execution_count": null,
      "metadata": {
        "id": "xfZ7UTY72Xwn"
      },
      "outputs": [],
      "source": [
        "import cv2\n",
        "import numpy as np\n",
        "from keras.models import load_model\n",
        "\n",
        "# Load the trained Keras model\n",
        "model = load_model('/path/to/h5/file')\n",
        "\n",
        "# Define the class labels (i.e., names of the diseases)\n",
        "class_labels = [\n",
        "    'Acne and Rosacea Photos', \n",
        "'Actinic Keratosis Basal Cell Carcinoma and other Malignant Lesions', \n",
        "'Atopic Dermatitis Photos', \n",
        "'Bullous Disease Photos', \n",
        "'Cellulitis Impetigo and other Bacterial Infections', \n",
        "'Eczema Photos', \n",
        "'Exanthems and Drug Eruptions', \n",
        "'Hair Loss Photos Alopecia and other Hair Diseases', \n",
        "'Herpes HPV and other STDs Photos',\n",
        "'Light Diseases and Disorders of Pigmentation',\n",
        "'Lupus and other Connective Tissue diseases',\n",
        "'Melanoma Skin Cancer Nevi and Moles',\n",
        "'Nail Fungus and other Nail Disease',\n",
        "'Poison Ivy Photos and other Contact Dermatitis',\n",
        "'Psoriasis pictures Lichen Planus and related diseases',\n",
        "'Scabies Lyme Disease and other Infestations and Bites',\n",
        "'Seborrheic Keratoses and other Benign Tumors',\n",
        "'Systemic Disease',\n",
        "'Tinea Ringworm Candidiasis and other Fungal Infections',\n",
        "'Urticaria Hives',\n",
        "'Vascular Tumors',\n",
        "'Vasculitis Photos',\n",
        "'Warts Molluscum and other Viral Infections'\n",
        "]\n",
        "\n",
        "# Preprocess the input image\n",
        "img_path = '/path/to/input/image'\n",
        "img = cv2.imread(img_path, cv2.IMREAD_GRAYSCALE)\n",
        "img = cv2.resize(img, (48, 48))\n",
        "img = np.expand_dims(img, axis=-1)\n",
        "img = np.expand_dims(img, axis=0)\n",
        "img = img / 255.0\n",
        "\n",
        "# Make a prediction on the preprocessed input image\n",
        "prediction = model.predict(img)\n",
        "\n",
        "# Get the predicted class label\n",
        "predicted_class_index = np.argmax(prediction, axis=-1)\n",
        "predicted_class_label = class_labels[predicted_class_index[0]]\n",
        "\n",
        "# Print the predicted class label\n",
        "print(predicted_class_label)\n"
      ]
    }
  ]
}